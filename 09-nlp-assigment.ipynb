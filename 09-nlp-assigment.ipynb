{
 "cells": [
  {
   "cell_type": "markdown",
   "id": "e73517c0-2692-4321-846c-9d8d61141d9a",
   "metadata": {},
   "source": [
    "# Natural language processing"
   ]
  },
  {
   "cell_type": "code",
   "execution_count": 46,
   "id": "852c4987",
   "metadata": {},
   "outputs": [],
   "source": [
    "import pandas as pd\n",
    "import numpy as np\n",
    "\n",
    "import matplotlib.pyplot as plt\n",
    "import seaborn as sns"
   ]
  },
  {
   "cell_type": "markdown",
   "id": "bd08f95f-ff3d-41c2-aff8-a33c99136b40",
   "metadata": {},
   "source": [
    "## Task 1"
   ]
  },
  {
   "cell_type": "markdown",
   "id": "100e1fc2-654c-4f05-8171-8ac4ca7d9acc",
   "metadata": {},
   "source": [
    "Загрузи датасет. Отрисуй Bar-plot с количеством комментариев для каждой категории токсичности \n",
    "и комментариев без токсичности.\n",
    "![sample](../misc/images/bar-plot.png)\n",
    "Выведи эти количества для каждой категории. "
   ]
  },
  {
   "cell_type": "code",
   "execution_count": 47,
   "id": "c53dce91-7c94-4d1f-9158-c9e8130b111d",
   "metadata": {},
   "outputs": [
    {
     "name": "stdout",
     "output_type": "stream",
     "text": [
      "comments.shape: (159571, 7)\n"
     ]
    },
    {
     "data": {
      "text/html": [
       "<div>\n",
       "<style scoped>\n",
       "    .dataframe tbody tr th:only-of-type {\n",
       "        vertical-align: middle;\n",
       "    }\n",
       "\n",
       "    .dataframe tbody tr th {\n",
       "        vertical-align: top;\n",
       "    }\n",
       "\n",
       "    .dataframe thead th {\n",
       "        text-align: right;\n",
       "    }\n",
       "</style>\n",
       "<table border=\"1\" class=\"dataframe\">\n",
       "  <thead>\n",
       "    <tr style=\"text-align: right;\">\n",
       "      <th></th>\n",
       "      <th>comment_text</th>\n",
       "      <th>toxic</th>\n",
       "      <th>severe_toxic</th>\n",
       "      <th>obscene</th>\n",
       "      <th>threat</th>\n",
       "      <th>insult</th>\n",
       "      <th>identity_hate</th>\n",
       "      <th>not toxic</th>\n",
       "    </tr>\n",
       "    <tr>\n",
       "      <th>id</th>\n",
       "      <th></th>\n",
       "      <th></th>\n",
       "      <th></th>\n",
       "      <th></th>\n",
       "      <th></th>\n",
       "      <th></th>\n",
       "      <th></th>\n",
       "      <th></th>\n",
       "    </tr>\n",
       "  </thead>\n",
       "  <tbody>\n",
       "    <tr>\n",
       "      <th>000103f0d9cfb60f</th>\n",
       "      <td>D'aww! He matches this background colour I'm seemingly stuck with. Thanks.  (talk) 21:51, January 11, 2016 (UTC)</td>\n",
       "      <td>0</td>\n",
       "      <td>0</td>\n",
       "      <td>0</td>\n",
       "      <td>0</td>\n",
       "      <td>0</td>\n",
       "      <td>0</td>\n",
       "      <td>1</td>\n",
       "    </tr>\n",
       "    <tr>\n",
       "      <th>0002bcb3da6cb337</th>\n",
       "      <td>COCKSUCKER BEFORE YOU PISS AROUND ON MY WORK</td>\n",
       "      <td>1</td>\n",
       "      <td>1</td>\n",
       "      <td>1</td>\n",
       "      <td>0</td>\n",
       "      <td>1</td>\n",
       "      <td>0</td>\n",
       "      <td>0</td>\n",
       "    </tr>\n",
       "  </tbody>\n",
       "</table>\n",
       "</div>"
      ],
      "text/plain": [
       "                                                                                                                      comment_text  \\\n",
       "id                                                                                                                                   \n",
       "000103f0d9cfb60f  D'aww! He matches this background colour I'm seemingly stuck with. Thanks.  (talk) 21:51, January 11, 2016 (UTC)   \n",
       "0002bcb3da6cb337                                                                      COCKSUCKER BEFORE YOU PISS AROUND ON MY WORK   \n",
       "\n",
       "                  toxic  severe_toxic  obscene  threat  insult  identity_hate  \\\n",
       "id                                                                              \n",
       "000103f0d9cfb60f      0             0        0       0       0              0   \n",
       "0002bcb3da6cb337      1             1        1       0       1              0   \n",
       "\n",
       "                  not toxic  \n",
       "id                           \n",
       "000103f0d9cfb60f          1  \n",
       "0002bcb3da6cb337          0  "
      ]
     },
     "execution_count": 47,
     "metadata": {},
     "output_type": "execute_result"
    }
   ],
   "source": [
    "comments = pd.read_csv('../datasets/toxic.csv', index_col='id')\n",
    "\n",
    "print('comments.shape:', comments.shape)\n",
    "\n",
    "#comments = comments1[:160].copy()\n",
    "\n",
    "# сумма по строке равна 0, то это не токсичный комментарий, иначе - токсичный\n",
    "comments.loc[:, 'is toxic'] = comments.sum(axis=1)\n",
    "comments['not toxic'] = np.where(comments['is toxic'] == 0, 1, 0)\n",
    "\n",
    "# удаляем, т.к. он уже не нужен\n",
    "del comments['is toxic']\n",
    "\n",
    "# выводим один токсичный комментарий и один нетоксичный\n",
    "comments.loc[['000103f0d9cfb60f', '0002bcb3da6cb337']]"
   ]
  },
  {
   "cell_type": "code",
   "execution_count": 48,
   "id": "7ebd9dfd",
   "metadata": {},
   "outputs": [
    {
     "data": {
      "image/png": "[encoded data removed]",
      "text/plain": [
       "<Figure size 1080x720 with 1 Axes>"
      ]
     },
     "metadata": {
      "needs_background": "light"
     },
     "output_type": "display_data"
    }
   ],
   "source": [
    "# функция для добавления меток\n",
    "def addlabels(x,y):\n",
    "    for i in range(len(x)):\n",
    "        plt.text(i, y[i] + 1000, y[i], ha = 'center')\n",
    "\n",
    "# датафрейм для диаграммы\n",
    "diag = comments.sum(axis=0, numeric_only=True).sort_values(ascending=False)\n",
    "diag = pd.DataFrame(diag, columns=['cnt']).reset_index()\n",
    "diag = diag.rename({'index':'type'}, axis=1)\n",
    "\n",
    "# построение графика\n",
    "plt.figure(figsize=(15, 10))\n",
    "\n",
    "_ = sns.barplot(data=diag, x='type', y='cnt', palette='colorblind')\n",
    "addlabels(diag['type'], diag['cnt'])\n",
    "\n",
    "plt.xticks(fontsize=12)\n",
    "plt.yticks(fontsize=12)\n",
    "plt.xlabel('Категории', fontsize=14)\n",
    "_ = plt.ylabel('Количество комментариев', fontsize=14)"
   ]
  },
  {
   "cell_type": "markdown",
   "id": "66f26770-8f33-4dec-887a-17cd969a4560",
   "metadata": {},
   "source": [
    "## Task 2"
   ]
  },
  {
   "cell_type": "markdown",
   "id": "a32b334c-b71f-43f7-9634-26ee83f63f94",
   "metadata": {},
   "source": [
    "Используя библиотеку [nltk](https://www.nltk.org/) обработайте тексты комментариев: \n",
    "* Приведи текст к нижнему регистру и токенизируй\n",
    "* Оставь токены содержащие английского алфавита \n",
    "* Убери знаки препинания, цифры\n",
    "* Убери стоп-слова из библиотки nltk\n",
    "\n",
    "Выведи количество токенов для комментария с индексом `000103f0d9cfb60f`"
   ]
  },
  {
   "cell_type": "code",
   "execution_count": 49,
   "id": "20034e63",
   "metadata": {},
   "outputs": [],
   "source": [
    "import nltk\n",
    "#nltk.download('all')"
   ]
  },
  {
   "cell_type": "code",
   "execution_count": 50,
   "id": "d15048af-0b0e-4f3e-99c4-12c6ad865308",
   "metadata": {},
   "outputs": [],
   "source": [
    "import re\n",
    "import string\n",
    "from nltk.stem import WordNetLemmatizer\n",
    "from nltk.corpus import stopwords\n",
    "from nltk.tokenize import word_tokenize"
   ]
  },
  {
   "cell_type": "code",
   "execution_count": 51,
   "id": "7cec3613",
   "metadata": {},
   "outputs": [],
   "source": [
    "# функция очистки комментария\n",
    "def DelSymbols(comment):\n",
    "    comment = re.sub('((www\\.[^\\s]+)|(https?://[^\\s]+))','',comment)\n",
    "    comment = re.sub('@[^\\s]+','',comment)\n",
    "    comment = re.sub('[\\s]+', ' ', comment)\n",
    "    comment = re.sub('\\[\\d+\\]+', ' ', comment)\n",
    "    comment = re.sub(r'#([^\\s]+)', r'\\1', comment)\n",
    "    comment = re.sub(r'[\\!:\\?\\-\\'\\\"\\\\/]', r'', comment)\n",
    "    comment = comment.strip('\\'\"')\n",
    "    return comment"
   ]
  },
  {
   "cell_type": "code",
   "execution_count": 52,
   "id": "2c7e5c1a",
   "metadata": {},
   "outputs": [],
   "source": [
    "# функция токенизации и лемматизации\n",
    "def CleanTokenizeLemmatize(comment):\n",
    "    lemmatizer = WordNetLemmatizer()\n",
    "#    comment = DelSymbols(comment)\n",
    "    comment = nltk.word_tokenize(comment)\n",
    "    words = [lemmatizer.lemmatize(word) for word in comment if word not in stop_words and word.isalpha()]\n",
    "#    words = DelSymbols(words)\n",
    "#    words = [word for word in words if word in eng_words]\n",
    "    return ' '.join(words)"
   ]
  },
  {
   "cell_type": "code",
   "execution_count": 53,
   "id": "f94ac600",
   "metadata": {},
   "outputs": [
    {
     "name": "stdout",
     "output_type": "stream",
     "text": [
      "Длительность выполнения в минутах: 5.950392786666672\n",
      "Длительность выполнения в секундах: 357.02356720000034\n"
     ]
    },
    {
     "data": {
      "text/html": [
       "<div>\n",
       "<style scoped>\n",
       "    .dataframe tbody tr th:only-of-type {\n",
       "        vertical-align: middle;\n",
       "    }\n",
       "\n",
       "    .dataframe tbody tr th {\n",
       "        vertical-align: top;\n",
       "    }\n",
       "\n",
       "    .dataframe thead th {\n",
       "        text-align: right;\n",
       "    }\n",
       "</style>\n",
       "<table border=\"1\" class=\"dataframe\">\n",
       "  <thead>\n",
       "    <tr style=\"text-align: right;\">\n",
       "      <th></th>\n",
       "      <th>comment_text</th>\n",
       "      <th>lower_comment_text</th>\n",
       "      <th>tok_lemm_comments</th>\n",
       "    </tr>\n",
       "    <tr>\n",
       "      <th>id</th>\n",
       "      <th></th>\n",
       "      <th></th>\n",
       "      <th></th>\n",
       "    </tr>\n",
       "  </thead>\n",
       "  <tbody>\n",
       "    <tr>\n",
       "      <th>000103f0d9cfb60f</th>\n",
       "      <td>D'aww! He matches this background colour I'm seemingly stuck with. Thanks.  (talk) 21:51, January 11, 2016 (UTC)</td>\n",
       "      <td>d'aww! he matches this background colour i'm seemingly stuck with. thanks.  (talk) 21:51, january 11, 2016 (utc)</td>\n",
       "      <td>match background colour seemingly stuck thanks talk january utc</td>\n",
       "    </tr>\n",
       "    <tr>\n",
       "      <th>0002bcb3da6cb337</th>\n",
       "      <td>COCKSUCKER BEFORE YOU PISS AROUND ON MY WORK</td>\n",
       "      <td>cocksucker before you piss around on my work</td>\n",
       "      <td>cocksucker piss around work</td>\n",
       "    </tr>\n",
       "  </tbody>\n",
       "</table>\n",
       "</div>"
      ],
      "text/plain": [
       "                                                                                                                      comment_text  \\\n",
       "id                                                                                                                                   \n",
       "000103f0d9cfb60f  D'aww! He matches this background colour I'm seemingly stuck with. Thanks.  (talk) 21:51, January 11, 2016 (UTC)   \n",
       "0002bcb3da6cb337                                                                      COCKSUCKER BEFORE YOU PISS AROUND ON MY WORK   \n",
       "\n",
       "                                                                                                                lower_comment_text  \\\n",
       "id                                                                                                                                   \n",
       "000103f0d9cfb60f  d'aww! he matches this background colour i'm seemingly stuck with. thanks.  (talk) 21:51, january 11, 2016 (utc)   \n",
       "0002bcb3da6cb337                                                                      cocksucker before you piss around on my work   \n",
       "\n",
       "                                                                tok_lemm_comments  \n",
       "id                                                                                 \n",
       "000103f0d9cfb60f  match background colour seemingly stuck thanks talk january utc  \n",
       "0002bcb3da6cb337                                      cocksucker piss around work  "
      ]
     },
     "execution_count": 53,
     "metadata": {},
     "output_type": "execute_result"
    }
   ],
   "source": [
    "# снятие ограничения на длину строки\n",
    "pd.set_option('display.max_colwidth', None)\n",
    "\n",
    "import timeit\n",
    "tic = timeit.default_timer()\n",
    "\n",
    "# перевод в нижний регистр\n",
    "comments['lower_comment_text'] = comments['comment_text'].str.lower()\n",
    "\n",
    "# токенизация и лемматизация\n",
    "stop_words = set(stopwords.words('english'))\n",
    "eng_words = set(nltk.corpus.words.words())\n",
    "\n",
    "comments['tok_lemm_comments'] = comments['lower_comment_text'].apply(CleanTokenizeLemmatize)\n",
    "\n",
    "toc = timeit.default_timer()\n",
    "print('Длительность выполнения в минутах:', (toc - tic) / 60)\n",
    "print('Длительность выполнения в секундах:', toc - tic)\n",
    "comments[['comment_text', 'lower_comment_text', 'tok_lemm_comments']].loc[['000103f0d9cfb60f', '0002bcb3da6cb337']]"
   ]
  },
  {
   "cell_type": "code",
   "execution_count": 54,
   "id": "bb82bb2f",
   "metadata": {},
   "outputs": [
    {
     "name": "stdout",
     "output_type": "stream",
     "text": [
      "Количество токенов для комментария с индексом 000103f0d9cfb60f: 9\n"
     ]
    }
   ],
   "source": [
    "print('Количество токенов для комментария с индексом 000103f0d9cfb60f:', \n",
    "      comments['tok_lemm_comments'].loc['000103f0d9cfb60f'].count(' ') + 1)"
   ]
  },
  {
   "cell_type": "code",
   "execution_count": 60,
   "id": "f4d67b20",
   "metadata": {},
   "outputs": [
    {
     "data": {
      "text/html": [
       "<div>\n",
       "<style scoped>\n",
       "    .dataframe tbody tr th:only-of-type {\n",
       "        vertical-align: middle;\n",
       "    }\n",
       "\n",
       "    .dataframe tbody tr th {\n",
       "        vertical-align: top;\n",
       "    }\n",
       "\n",
       "    .dataframe thead th {\n",
       "        text-align: right;\n",
       "    }\n",
       "</style>\n",
       "<table border=\"1\" class=\"dataframe\">\n",
       "  <thead>\n",
       "    <tr style=\"text-align: right;\">\n",
       "      <th></th>\n",
       "      <th>comment_text</th>\n",
       "      <th>toxic</th>\n",
       "      <th>severe_toxic</th>\n",
       "      <th>obscene</th>\n",
       "      <th>threat</th>\n",
       "      <th>insult</th>\n",
       "      <th>identity_hate</th>\n",
       "      <th>not toxic</th>\n",
       "      <th>tok_lemm_comments</th>\n",
       "    </tr>\n",
       "    <tr>\n",
       "      <th>id</th>\n",
       "      <th></th>\n",
       "      <th></th>\n",
       "      <th></th>\n",
       "      <th></th>\n",
       "      <th></th>\n",
       "      <th></th>\n",
       "      <th></th>\n",
       "      <th></th>\n",
       "      <th></th>\n",
       "    </tr>\n",
       "  </thead>\n",
       "  <tbody>\n",
       "    <tr>\n",
       "      <th>000103f0d9cfb60f</th>\n",
       "      <td>D'aww! He matches this background colour I'm seemingly stuck with. Thanks.  (talk) 21:51, Januar...</td>\n",
       "      <td>0</td>\n",
       "      <td>0</td>\n",
       "      <td>0</td>\n",
       "      <td>0</td>\n",
       "      <td>0</td>\n",
       "      <td>0</td>\n",
       "      <td>1</td>\n",
       "      <td>match background colour seemingly stuck thanks talk january utc</td>\n",
       "    </tr>\n",
       "    <tr>\n",
       "      <th>0002bcb3da6cb337</th>\n",
       "      <td>COCKSUCKER BEFORE YOU PISS AROUND ON MY WORK</td>\n",
       "      <td>1</td>\n",
       "      <td>1</td>\n",
       "      <td>1</td>\n",
       "      <td>0</td>\n",
       "      <td>1</td>\n",
       "      <td>0</td>\n",
       "      <td>0</td>\n",
       "      <td>cocksucker piss around work</td>\n",
       "    </tr>\n",
       "  </tbody>\n",
       "</table>\n",
       "</div>"
      ],
      "text/plain": [
       "                                                                                                         comment_text  \\\n",
       "id                                                                                                                      \n",
       "000103f0d9cfb60f  D'aww! He matches this background colour I'm seemingly stuck with. Thanks.  (talk) 21:51, Januar...   \n",
       "0002bcb3da6cb337                                                         COCKSUCKER BEFORE YOU PISS AROUND ON MY WORK   \n",
       "\n",
       "                  toxic  severe_toxic  obscene  threat  insult  identity_hate  \\\n",
       "id                                                                              \n",
       "000103f0d9cfb60f      0             0        0       0       0              0   \n",
       "0002bcb3da6cb337      1             1        1       0       1              0   \n",
       "\n",
       "                  not toxic  \\\n",
       "id                            \n",
       "000103f0d9cfb60f          1   \n",
       "0002bcb3da6cb337          0   \n",
       "\n",
       "                                                                tok_lemm_comments  \n",
       "id                                                                                 \n",
       "000103f0d9cfb60f  match background colour seemingly stuck thanks talk january utc  \n",
       "0002bcb3da6cb337                                      cocksucker piss around work  "
      ]
     },
     "execution_count": 60,
     "metadata": {},
     "output_type": "execute_result"
    }
   ],
   "source": [
    "# установка ограничения на длину строки\n",
    "pd.set_option('display.max_colwidth', 100)\n",
    "del comments['lower_comment_text']\n",
    "comments.loc[['000103f0d9cfb60f', '0002bcb3da6cb337']]"
   ]
  },
  {
   "cell_type": "markdown",
   "id": "33c1178f-ed36-472b-b31b-b3479d8aecea",
   "metadata": {
    "tags": []
   },
   "source": [
    "## Task 3"
   ]
  },
  {
   "cell_type": "markdown",
   "id": "2a8dcd9e-62cb-40bd-ba4c-42b991f88e19",
   "metadata": {},
   "source": [
    "Раздели выборку на тренировочную и тестовую с параметрами `random_state=21, test_size=0.3, shuffle=True`\n",
    "Преобразуй тексты комментариев с помощью [TF-IDF](https://scikit-learn.org/stable/modules/generated/sklearn.feature_extraction.text.TfidfVectorizer.html) с количеством признаков равный 3000. \\\n",
    "Выведи размерность тренировачной выборки после преобразования текста."
   ]
  },
  {
   "cell_type": "code",
   "execution_count": 61,
   "id": "d24cd2ca-0156-4d27-a6b2-e082b45fca7b",
   "metadata": {},
   "outputs": [
    {
     "name": "stdout",
     "output_type": "stream",
     "text": [
      "(111699,)\n",
      "(47872,)\n",
      "(111699, 7)\n",
      "(47872, 7)\n"
     ]
    }
   ],
   "source": [
    "from sklearn.model_selection import train_test_split\n",
    "\n",
    "X = comments['tok_lemm_comments'].copy()\n",
    "y = comments.drop(labels=['tok_lemm_comments', 'comment_text'], axis=1).copy()\n",
    "\n",
    "X_train, X_test, y_train, y_test = train_test_split(X, y, random_state=21, test_size=0.3, shuffle=True)\n",
    "\n",
    "print(X_train.shape)\n",
    "print(X_test.shape)\n",
    "print(y_train.shape)\n",
    "print(y_test.shape)"
   ]
  },
  {
   "cell_type": "code",
   "execution_count": 63,
   "id": "1d2f4ece",
   "metadata": {},
   "outputs": [
    {
     "name": "stdout",
     "output_type": "stream",
     "text": [
      "Размерность тренировочной выборки: (111699, 3000)\n"
     ]
    }
   ],
   "source": [
    "from sklearn.feature_extraction.text import TfidfVectorizer\n",
    "\n",
    "vectorizer = TfidfVectorizer(max_features=3000)\n",
    "X_train_tfidf = vectorizer.fit_transform(X_train)\n",
    "X_test_tfidf = vectorizer.transform(X_test)\n",
    "\n",
    "print('Размерность тренировочной выборки:', X_train_tfidf.shape)"
   ]
  },
  {
   "cell_type": "markdown",
   "id": "510ab52e-2dc0-46b3-80b2-2f5a587593b5",
   "metadata": {},
   "source": [
    "## Task 4"
   ]
  },
  {
   "cell_type": "markdown",
   "id": "a2408435-5ee0-42b4-97c2-32740925326b",
   "metadata": {},
   "source": [
    "Реши задачу [Multi-Label](https://scikit-learn.org/stable/modules/multiclass.html) классификации используя [RidgeClassifier](https://scikit-learn.org/stable/modules/generated/sklearn.linear_model.RidgeClassifier.html#sklearn.linear_model.RidgeClassifier).\n",
    "Посчитай значение ROC-AUC для тестовой выборки."
   ]
  },
  {
   "cell_type": "code",
   "execution_count": 64,
   "id": "ce606d69-4889-4aad-9cc9-67072b2044d0",
   "metadata": {
    "scrolled": false
   },
   "outputs": [
    {
     "name": "stdout",
     "output_type": "stream",
     "text": [
      "ROC-AUC: 0.6728433325360061\n"
     ]
    }
   ],
   "source": [
    "from sklearn.linear_model import RidgeClassifier\n",
    "from sklearn.multiclass import OneVsRestClassifier\n",
    "from sklearn.metrics import roc_auc_score\n",
    "\n",
    "# классификация\n",
    "model = OneVsRestClassifier(RidgeClassifier())\n",
    "\n",
    "model.fit(X_train_tfidf, y_train)\n",
    "y_pred = model.predict(X_test_tfidf)\n",
    "\n",
    "# рассчитываем ROC-AUC\n",
    "roc_auc = roc_auc_score(y_test, y_pred)\n",
    "print(\"ROC-AUC:\", roc_auc)"
   ]
  },
  {
   "cell_type": "markdown",
   "id": "2dd5b405-447d-420c-9841-72f0eaf03742",
   "metadata": {},
   "source": [
    "## Task 5"
   ]
  },
  {
   "cell_type": "markdown",
   "id": "2e8e7d65-26cf-4457-ae30-a59961fd02ca",
   "metadata": {},
   "source": [
    "Есть посмотреть на тексты токсичных комментариев, то можно заметить, что они могут повторять одни и те же слова. Или там чаще встречается `!` знаки. \\\n",
    "Кроме 'прямых' текстовых признаков, можно использоваться и эту статистику по тексту. Например, долю уникальных слов в тексте комментария или количество пунктуации в тексте.\n",
    "\n",
    "Придумай не меньше 4х признаков, которые могут помочь в обучении модели. Добавьте их к признакам TF-IDF и обучите модель. \n",
    "Получилось ли увеличить качество классификации?"
   ]
  },
  {
   "cell_type": "markdown",
   "id": "0683d5c9",
   "metadata": {},
   "source": [
    "### Четыре дополнительных признака\n",
    "* Доля уникальных слов в комментарии\n",
    "* Количество повторяющихся слов\n",
    "* Количество восклицательных знаков\n",
    "* Доля ругательств"
   ]
  },
  {
   "cell_type": "code",
   "execution_count": 65,
   "id": "26005603",
   "metadata": {},
   "outputs": [],
   "source": [
    "# создание дополнительных признаков\n",
    "# доля уникальных слов в комментарии\n",
    "unique_words_ratio_train = X_train.apply(lambda x: len(set(x.split())) / (len(x.split()) + 1))\n",
    "unique_words_ratio_test = X_test.apply(lambda x: len(set(x.split())) / (len(x.split()) + 1))\n",
    "\n",
    "# количество повторяющихся слов\n",
    "repeated_words_count_train = X_train.apply(lambda x: len(x.split()) - len(set(x.split())))\n",
    "repeated_words_count_test = X_test.apply(lambda x: len(x.split()) - len(set(x.split())))\n",
    "\n",
    "# количество восклицательных знаков\n",
    "exclamation_marks_count_train = comments.loc[X_train.index]['comment_text'].apply(lambda x: x.count('!'))\n",
    "exclamation_marks_count_test = comments.loc[X_test.index]['comment_text'].apply(lambda x: x.count('!'))\n",
    "\n",
    "# доля ругательств\n",
    "censored_words = set(['fuck', 'stupid', 'cocksucker', 'piss', 'fool'])\n",
    "censored_words_ratio_train = comments.loc[X_train.index]['comment_text'].apply(lambda x: \n",
    "                                                      len(set(x.lower().split()).intersection(censored_words)) / \n",
    "                                                      len(set(x.lower().split())))\n",
    "censored_words_ratio_test = comments.loc[X_test.index]['comment_text'].apply(lambda x: \n",
    "                                                      len(set(x.lower().split()).intersection(censored_words)) / \n",
    "                                                      len(set(x.lower().split())))"
   ]
  },
  {
   "cell_type": "code",
   "execution_count": 66,
   "id": "bb964aef",
   "metadata": {},
   "outputs": [],
   "source": [
    "from scipy.sparse import hstack\n",
    "from scipy.sparse import csr_matrix\n",
    "\n",
    "# объединение новых признаков с с признаками TF-IDF\n",
    "additional_features_train = csr_matrix(np.array([unique_words_ratio_train, repeated_words_count_train, \n",
    "                                                 exclamation_marks_count_train, censored_words_ratio_train]).T)\n",
    "additional_features_test = csr_matrix(np.array([unique_words_ratio_test, repeated_words_count_test, \n",
    "                                                exclamation_marks_count_test, censored_words_ratio_test]).T)\n",
    "X_train_tfidf_combined = hstack((X_train_tfidf, additional_features_train))\n",
    "X_test_tfidf_combined = hstack((X_test_tfidf, additional_features_test))"
   ]
  },
  {
   "cell_type": "code",
   "execution_count": 67,
   "id": "94dbb4bc",
   "metadata": {
    "scrolled": false
   },
   "outputs": [
    {
     "name": "stdout",
     "output_type": "stream",
     "text": [
      "ROC-AUC: 0.6728417676641225\n"
     ]
    }
   ],
   "source": [
    "# классификация\n",
    "model_combined = OneVsRestClassifier(RidgeClassifier())\n",
    "\n",
    "model_combined.fit(X_train_tfidf_combined, y_train)\n",
    "y_pred = model_combined.predict(X_test_tfidf_combined)\n",
    "\n",
    "# рассчитываем ROC-AUC\n",
    "roc_auc_combined = roc_auc_score(y_test, y_pred)\n",
    "print(\"ROC-AUC:\", roc_auc_combined)"
   ]
  },
  {
   "cell_type": "code",
   "execution_count": 68,
   "id": "d7b3d25a",
   "metadata": {},
   "outputs": [
    {
     "name": "stdout",
     "output_type": "stream",
     "text": [
      "Классификация улучшилась на -0.00%\n"
     ]
    }
   ],
   "source": [
    "print('Классификация улучшилась на {:.2%}'.format(roc_auc_combined / roc_auc - 1))"
   ]
  },
  {
   "cell_type": "code",
   "execution_count": null,
   "id": "00ef82fe",
   "metadata": {},
   "outputs": [],
   "source": []
  }
 ],
 "metadata": {
  "kernelspec": {
   "display_name": "Python 3",
   "language": "python",
   "name": "python3"
  },
  "language_info": {
   "codemirror_mode": {
    "name": "ipython",
    "version": 3
   },
   "file_extension": ".py",
   "mimetype": "text/x-python",
   "name": "python",
   "nbconvert_exporter": "python",
   "pygments_lexer": "ipython3",
   "version": "3.8.8"
  }
 },
 "nbformat": 4,
 "nbformat_minor": 5
}
